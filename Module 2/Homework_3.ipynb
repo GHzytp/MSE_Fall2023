{
  "nbformat": 4,
  "nbformat_minor": 0,
  "metadata": {
    "colab": {
      "provenance": [],
      "toc_visible": true,
      "authorship_tag": "ABX9TyPc7Xx6dtpbD3ero5PUHAw/",
      "include_colab_link": true
    },
    "kernelspec": {
      "name": "python3",
      "display_name": "Python 3"
    },
    "language_info": {
      "name": "python"
    }
  },
  "cells": [
    {
      "cell_type": "markdown",
      "metadata": {
        "id": "view-in-github",
        "colab_type": "text"
      },
      "source": [
        "<a href=\"https://colab.research.google.com/github/SergeiVKalinin/MSE_Fall2023/blob/main/Module%202/Homework_3.ipynb\" target=\"_parent\"><img src=\"https://colab.research.google.com/assets/colab-badge.svg\" alt=\"Open In Colab\"/></a>"
      ]
    },
    {
      "cell_type": "markdown",
      "source": [
        "Homework 3 for the Fall 2023 Course \"Machine Learning for Materials Science\", University of Tennessee Knoxville, Department of Materials Science and Engineering.\n",
        "\n",
        "- Instructor Sergei V. Kalinin\n",
        "\n",
        "- The atoms data set is gracefully provided by Prof. Rampi Ramprasad, Georgia Instutute of Technology"
      ],
      "metadata": {
        "id": "9HNiyL5-1s36"
      }
    },
    {
      "cell_type": "markdown",
      "source": [
        "**Please add student name and date**"
      ],
      "metadata": {
        "id": "rfiBm01UsEyt"
      }
    },
    {
      "cell_type": "code",
      "source": [
        "import numpy as np\n",
        "\n",
        "import matplotlib.pyplot as plt\n",
        "from matplotlib import cm\n",
        "\n",
        "import pandas as pd\n",
        "import seaborn as sns"
      ],
      "metadata": {
        "id": "yEsDzFSX2KJc"
      },
      "execution_count": null,
      "outputs": []
    },
    {
      "cell_type": "markdown",
      "source": [
        "# Import Atom Dataset"
      ],
      "metadata": {
        "id": "aghTd6_62qxj"
      }
    },
    {
      "cell_type": "code",
      "execution_count": null,
      "metadata": {
        "colab": {
          "base_uri": "https://localhost:8080/"
        },
        "id": "582b645609Cp",
        "outputId": "be11fd54-a88d-4710-e6ca-495c7afa349a"
      },
      "outputs": [
        {
          "output_type": "stream",
          "name": "stdout",
          "text": [
            "Downloading...\n",
            "From: https://drive.google.com/uc?id=1SygYRQ4Iom2ZP7dANIyay7NIoCra2bE1\n",
            "To: /content/atoms.csv\n",
            "\r  0% 0.00/5.89k [00:00<?, ?B/s]\r100% 5.89k/5.89k [00:00<00:00, 15.6MB/s]\n"
          ]
        }
      ],
      "source": [
        "!gdown https://drive.google.com/uc?id=1SygYRQ4Iom2ZP7dANIyay7NIoCra2bE1"
      ]
    },
    {
      "cell_type": "code",
      "source": [
        "df = pd.read_csv('/content/atoms.csv')\n",
        "df.head()"
      ],
      "metadata": {
        "colab": {
          "base_uri": "https://localhost:8080/",
          "height": 226
        },
        "id": "pbRJQR1v2KSS",
        "outputId": "424bfd0d-376a-4f2f-e8fc-fe228f5754ac"
      },
      "execution_count": null,
      "outputs": [
        {
          "output_type": "execute_result",
          "data": {
            "text/plain": [
              "  Symbol  Atomic_radius  Covalent_radius  Density  Pauling_Electronegativity  \\\n",
              "0      H             53               31   0.0708                       2.20   \n",
              "1     He             31               28   0.1470                       0.00   \n",
              "2     Li            167              128   0.5340                       0.98   \n",
              "3     Be            112               96   1.8480                       1.57   \n",
              "4      B             87               84   2.3400                       2.04   \n",
              "\n",
              "   Electron_affinity  First_Ionisation_Energy  Heat_Evaporation  \\\n",
              "0             72.769                   1311.3             0.904   \n",
              "1            -50.000                   2361.3             0.080   \n",
              "2             59.632                    519.9           148.000   \n",
              "3            -50.000                    898.8           309.000   \n",
              "4             26.989                    800.2           504.500   \n",
              "\n",
              "   Melting_Point  Boiling_Point  Specific_Heat  Specific_Volume  \\\n",
              "0          14.01         20.280         14.267             14.1   \n",
              "1           0.95          4.216          5.188             31.8   \n",
              "2         553.69       1118.150          3.489             13.1   \n",
              "3        1551.00       3243.000          1.824              5.0   \n",
              "4        2573.00       3931.000          1.025              4.6   \n",
              "\n",
              "   Thermal_Conductivity  Max_Oxidation_States  \n",
              "0                0.1815                     1  \n",
              "1                0.1520                     2  \n",
              "2               84.8000                     1  \n",
              "3              201.0000                     2  \n",
              "4               27.4000                     3  "
            ],
            "text/html": [
              "\n",
              "  <div id=\"df-9792525d-3bfb-447e-8a2f-ffa427570492\" class=\"colab-df-container\">\n",
              "    <div>\n",
              "<style scoped>\n",
              "    .dataframe tbody tr th:only-of-type {\n",
              "        vertical-align: middle;\n",
              "    }\n",
              "\n",
              "    .dataframe tbody tr th {\n",
              "        vertical-align: top;\n",
              "    }\n",
              "\n",
              "    .dataframe thead th {\n",
              "        text-align: right;\n",
              "    }\n",
              "</style>\n",
              "<table border=\"1\" class=\"dataframe\">\n",
              "  <thead>\n",
              "    <tr style=\"text-align: right;\">\n",
              "      <th></th>\n",
              "      <th>Symbol</th>\n",
              "      <th>Atomic_radius</th>\n",
              "      <th>Covalent_radius</th>\n",
              "      <th>Density</th>\n",
              "      <th>Pauling_Electronegativity</th>\n",
              "      <th>Electron_affinity</th>\n",
              "      <th>First_Ionisation_Energy</th>\n",
              "      <th>Heat_Evaporation</th>\n",
              "      <th>Melting_Point</th>\n",
              "      <th>Boiling_Point</th>\n",
              "      <th>Specific_Heat</th>\n",
              "      <th>Specific_Volume</th>\n",
              "      <th>Thermal_Conductivity</th>\n",
              "      <th>Max_Oxidation_States</th>\n",
              "    </tr>\n",
              "  </thead>\n",
              "  <tbody>\n",
              "    <tr>\n",
              "      <th>0</th>\n",
              "      <td>H</td>\n",
              "      <td>53</td>\n",
              "      <td>31</td>\n",
              "      <td>0.0708</td>\n",
              "      <td>2.20</td>\n",
              "      <td>72.769</td>\n",
              "      <td>1311.3</td>\n",
              "      <td>0.904</td>\n",
              "      <td>14.01</td>\n",
              "      <td>20.280</td>\n",
              "      <td>14.267</td>\n",
              "      <td>14.1</td>\n",
              "      <td>0.1815</td>\n",
              "      <td>1</td>\n",
              "    </tr>\n",
              "    <tr>\n",
              "      <th>1</th>\n",
              "      <td>He</td>\n",
              "      <td>31</td>\n",
              "      <td>28</td>\n",
              "      <td>0.1470</td>\n",
              "      <td>0.00</td>\n",
              "      <td>-50.000</td>\n",
              "      <td>2361.3</td>\n",
              "      <td>0.080</td>\n",
              "      <td>0.95</td>\n",
              "      <td>4.216</td>\n",
              "      <td>5.188</td>\n",
              "      <td>31.8</td>\n",
              "      <td>0.1520</td>\n",
              "      <td>2</td>\n",
              "    </tr>\n",
              "    <tr>\n",
              "      <th>2</th>\n",
              "      <td>Li</td>\n",
              "      <td>167</td>\n",
              "      <td>128</td>\n",
              "      <td>0.5340</td>\n",
              "      <td>0.98</td>\n",
              "      <td>59.632</td>\n",
              "      <td>519.9</td>\n",
              "      <td>148.000</td>\n",
              "      <td>553.69</td>\n",
              "      <td>1118.150</td>\n",
              "      <td>3.489</td>\n",
              "      <td>13.1</td>\n",
              "      <td>84.8000</td>\n",
              "      <td>1</td>\n",
              "    </tr>\n",
              "    <tr>\n",
              "      <th>3</th>\n",
              "      <td>Be</td>\n",
              "      <td>112</td>\n",
              "      <td>96</td>\n",
              "      <td>1.8480</td>\n",
              "      <td>1.57</td>\n",
              "      <td>-50.000</td>\n",
              "      <td>898.8</td>\n",
              "      <td>309.000</td>\n",
              "      <td>1551.00</td>\n",
              "      <td>3243.000</td>\n",
              "      <td>1.824</td>\n",
              "      <td>5.0</td>\n",
              "      <td>201.0000</td>\n",
              "      <td>2</td>\n",
              "    </tr>\n",
              "    <tr>\n",
              "      <th>4</th>\n",
              "      <td>B</td>\n",
              "      <td>87</td>\n",
              "      <td>84</td>\n",
              "      <td>2.3400</td>\n",
              "      <td>2.04</td>\n",
              "      <td>26.989</td>\n",
              "      <td>800.2</td>\n",
              "      <td>504.500</td>\n",
              "      <td>2573.00</td>\n",
              "      <td>3931.000</td>\n",
              "      <td>1.025</td>\n",
              "      <td>4.6</td>\n",
              "      <td>27.4000</td>\n",
              "      <td>3</td>\n",
              "    </tr>\n",
              "  </tbody>\n",
              "</table>\n",
              "</div>\n",
              "    <div class=\"colab-df-buttons\">\n",
              "\n",
              "  <div class=\"colab-df-container\">\n",
              "    <button class=\"colab-df-convert\" onclick=\"convertToInteractive('df-9792525d-3bfb-447e-8a2f-ffa427570492')\"\n",
              "            title=\"Convert this dataframe to an interactive table.\"\n",
              "            style=\"display:none;\">\n",
              "\n",
              "  <svg xmlns=\"http://www.w3.org/2000/svg\" height=\"24px\" viewBox=\"0 -960 960 960\">\n",
              "    <path d=\"M120-120v-720h720v720H120Zm60-500h600v-160H180v160Zm220 220h160v-160H400v160Zm0 220h160v-160H400v160ZM180-400h160v-160H180v160Zm440 0h160v-160H620v160ZM180-180h160v-160H180v160Zm440 0h160v-160H620v160Z\"/>\n",
              "  </svg>\n",
              "    </button>\n",
              "\n",
              "  <style>\n",
              "    .colab-df-container {\n",
              "      display:flex;\n",
              "      gap: 12px;\n",
              "    }\n",
              "\n",
              "    .colab-df-convert {\n",
              "      background-color: #E8F0FE;\n",
              "      border: none;\n",
              "      border-radius: 50%;\n",
              "      cursor: pointer;\n",
              "      display: none;\n",
              "      fill: #1967D2;\n",
              "      height: 32px;\n",
              "      padding: 0 0 0 0;\n",
              "      width: 32px;\n",
              "    }\n",
              "\n",
              "    .colab-df-convert:hover {\n",
              "      background-color: #E2EBFA;\n",
              "      box-shadow: 0px 1px 2px rgba(60, 64, 67, 0.3), 0px 1px 3px 1px rgba(60, 64, 67, 0.15);\n",
              "      fill: #174EA6;\n",
              "    }\n",
              "\n",
              "    .colab-df-buttons div {\n",
              "      margin-bottom: 4px;\n",
              "    }\n",
              "\n",
              "    [theme=dark] .colab-df-convert {\n",
              "      background-color: #3B4455;\n",
              "      fill: #D2E3FC;\n",
              "    }\n",
              "\n",
              "    [theme=dark] .colab-df-convert:hover {\n",
              "      background-color: #434B5C;\n",
              "      box-shadow: 0px 1px 3px 1px rgba(0, 0, 0, 0.15);\n",
              "      filter: drop-shadow(0px 1px 2px rgba(0, 0, 0, 0.3));\n",
              "      fill: #FFFFFF;\n",
              "    }\n",
              "  </style>\n",
              "\n",
              "    <script>\n",
              "      const buttonEl =\n",
              "        document.querySelector('#df-9792525d-3bfb-447e-8a2f-ffa427570492 button.colab-df-convert');\n",
              "      buttonEl.style.display =\n",
              "        google.colab.kernel.accessAllowed ? 'block' : 'none';\n",
              "\n",
              "      async function convertToInteractive(key) {\n",
              "        const element = document.querySelector('#df-9792525d-3bfb-447e-8a2f-ffa427570492');\n",
              "        const dataTable =\n",
              "          await google.colab.kernel.invokeFunction('convertToInteractive',\n",
              "                                                    [key], {});\n",
              "        if (!dataTable) return;\n",
              "\n",
              "        const docLinkHtml = 'Like what you see? Visit the ' +\n",
              "          '<a target=\"_blank\" href=https://colab.research.google.com/notebooks/data_table.ipynb>data table notebook</a>'\n",
              "          + ' to learn more about interactive tables.';\n",
              "        element.innerHTML = '';\n",
              "        dataTable['output_type'] = 'display_data';\n",
              "        await google.colab.output.renderOutput(dataTable, element);\n",
              "        const docLink = document.createElement('div');\n",
              "        docLink.innerHTML = docLinkHtml;\n",
              "        element.appendChild(docLink);\n",
              "      }\n",
              "    </script>\n",
              "  </div>\n",
              "\n",
              "\n",
              "<div id=\"df-3e12cf9a-41c1-4cd7-b891-c5b334fe8555\">\n",
              "  <button class=\"colab-df-quickchart\" onclick=\"quickchart('df-3e12cf9a-41c1-4cd7-b891-c5b334fe8555')\"\n",
              "            title=\"Suggest charts.\"\n",
              "            style=\"display:none;\">\n",
              "\n",
              "<svg xmlns=\"http://www.w3.org/2000/svg\" height=\"24px\"viewBox=\"0 0 24 24\"\n",
              "     width=\"24px\">\n",
              "    <g>\n",
              "        <path d=\"M19 3H5c-1.1 0-2 .9-2 2v14c0 1.1.9 2 2 2h14c1.1 0 2-.9 2-2V5c0-1.1-.9-2-2-2zM9 17H7v-7h2v7zm4 0h-2V7h2v10zm4 0h-2v-4h2v4z\"/>\n",
              "    </g>\n",
              "</svg>\n",
              "  </button>\n",
              "\n",
              "<style>\n",
              "  .colab-df-quickchart {\n",
              "      --bg-color: #E8F0FE;\n",
              "      --fill-color: #1967D2;\n",
              "      --hover-bg-color: #E2EBFA;\n",
              "      --hover-fill-color: #174EA6;\n",
              "      --disabled-fill-color: #AAA;\n",
              "      --disabled-bg-color: #DDD;\n",
              "  }\n",
              "\n",
              "  [theme=dark] .colab-df-quickchart {\n",
              "      --bg-color: #3B4455;\n",
              "      --fill-color: #D2E3FC;\n",
              "      --hover-bg-color: #434B5C;\n",
              "      --hover-fill-color: #FFFFFF;\n",
              "      --disabled-bg-color: #3B4455;\n",
              "      --disabled-fill-color: #666;\n",
              "  }\n",
              "\n",
              "  .colab-df-quickchart {\n",
              "    background-color: var(--bg-color);\n",
              "    border: none;\n",
              "    border-radius: 50%;\n",
              "    cursor: pointer;\n",
              "    display: none;\n",
              "    fill: var(--fill-color);\n",
              "    height: 32px;\n",
              "    padding: 0;\n",
              "    width: 32px;\n",
              "  }\n",
              "\n",
              "  .colab-df-quickchart:hover {\n",
              "    background-color: var(--hover-bg-color);\n",
              "    box-shadow: 0 1px 2px rgba(60, 64, 67, 0.3), 0 1px 3px 1px rgba(60, 64, 67, 0.15);\n",
              "    fill: var(--button-hover-fill-color);\n",
              "  }\n",
              "\n",
              "  .colab-df-quickchart-complete:disabled,\n",
              "  .colab-df-quickchart-complete:disabled:hover {\n",
              "    background-color: var(--disabled-bg-color);\n",
              "    fill: var(--disabled-fill-color);\n",
              "    box-shadow: none;\n",
              "  }\n",
              "\n",
              "  .colab-df-spinner {\n",
              "    border: 2px solid var(--fill-color);\n",
              "    border-color: transparent;\n",
              "    border-bottom-color: var(--fill-color);\n",
              "    animation:\n",
              "      spin 1s steps(1) infinite;\n",
              "  }\n",
              "\n",
              "  @keyframes spin {\n",
              "    0% {\n",
              "      border-color: transparent;\n",
              "      border-bottom-color: var(--fill-color);\n",
              "      border-left-color: var(--fill-color);\n",
              "    }\n",
              "    20% {\n",
              "      border-color: transparent;\n",
              "      border-left-color: var(--fill-color);\n",
              "      border-top-color: var(--fill-color);\n",
              "    }\n",
              "    30% {\n",
              "      border-color: transparent;\n",
              "      border-left-color: var(--fill-color);\n",
              "      border-top-color: var(--fill-color);\n",
              "      border-right-color: var(--fill-color);\n",
              "    }\n",
              "    40% {\n",
              "      border-color: transparent;\n",
              "      border-right-color: var(--fill-color);\n",
              "      border-top-color: var(--fill-color);\n",
              "    }\n",
              "    60% {\n",
              "      border-color: transparent;\n",
              "      border-right-color: var(--fill-color);\n",
              "    }\n",
              "    80% {\n",
              "      border-color: transparent;\n",
              "      border-right-color: var(--fill-color);\n",
              "      border-bottom-color: var(--fill-color);\n",
              "    }\n",
              "    90% {\n",
              "      border-color: transparent;\n",
              "      border-bottom-color: var(--fill-color);\n",
              "    }\n",
              "  }\n",
              "</style>\n",
              "\n",
              "  <script>\n",
              "    async function quickchart(key) {\n",
              "      const quickchartButtonEl =\n",
              "        document.querySelector('#' + key + ' button');\n",
              "      quickchartButtonEl.disabled = true;  // To prevent multiple clicks.\n",
              "      quickchartButtonEl.classList.add('colab-df-spinner');\n",
              "      try {\n",
              "        const charts = await google.colab.kernel.invokeFunction(\n",
              "            'suggestCharts', [key], {});\n",
              "      } catch (error) {\n",
              "        console.error('Error during call to suggestCharts:', error);\n",
              "      }\n",
              "      quickchartButtonEl.classList.remove('colab-df-spinner');\n",
              "      quickchartButtonEl.classList.add('colab-df-quickchart-complete');\n",
              "    }\n",
              "    (() => {\n",
              "      let quickchartButtonEl =\n",
              "        document.querySelector('#df-3e12cf9a-41c1-4cd7-b891-c5b334fe8555 button');\n",
              "      quickchartButtonEl.style.display =\n",
              "        google.colab.kernel.accessAllowed ? 'block' : 'none';\n",
              "    })();\n",
              "  </script>\n",
              "</div>\n",
              "\n",
              "    </div>\n",
              "  </div>\n"
            ]
          },
          "metadata": {},
          "execution_count": 3
        }
      ]
    },
    {
      "cell_type": "markdown",
      "source": [
        "# Simple statistical analysis"
      ],
      "metadata": {
        "id": "O2KdcxhTsPzW"
      }
    },
    {
      "cell_type": "markdown",
      "source": [
        "Below each markdown section, write a code that will perform the analysis and visualize the results. Feel free to use CodeAssistant in Colab or ChatGPT. If there are additional questions, please provide answers in the markdown fields below the code section/output. While many pythin libraries can be used for this analysis, Seaborn can be the most convenient.\n",
        "\n",
        "1. Create a histogram of the melting point distribution"
      ],
      "metadata": {
        "id": "jg5eIn9xslqu"
      }
    },
    {
      "cell_type": "code",
      "source": [],
      "metadata": {
        "id": "IcOA64HGsozO"
      },
      "execution_count": null,
      "outputs": []
    },
    {
      "cell_type": "markdown",
      "source": [
        "2. Create the boxplot of the melting and boiling points"
      ],
      "metadata": {
        "id": "D5IR3qikspEl"
      }
    },
    {
      "cell_type": "code",
      "source": [],
      "metadata": {
        "id": "eWTz8HpltvrW"
      },
      "execution_count": null,
      "outputs": []
    },
    {
      "cell_type": "markdown",
      "source": [
        "3. Use the Standard Scaler in the scikit-learn to normalize the values in the table and create the boxplot of all variables. Hint: drop the non-numeric column. In the markdown field, comment on what information does boxplot provide."
      ],
      "metadata": {
        "id": "OpDUs9RGtv1W"
      }
    },
    {
      "cell_type": "code",
      "source": [],
      "metadata": {
        "id": "JWWn4isPuNa-"
      },
      "execution_count": null,
      "outputs": []
    },
    {
      "cell_type": "markdown",
      "source": [
        "Answer 3:"
      ],
      "metadata": {
        "id": "szqDO5LEuNy1"
      }
    },
    {
      "cell_type": "markdown",
      "source": [
        "4. Explore other ways to represent statistical distribution of a single parameter."
      ],
      "metadata": {
        "id": "thp1gcsmuP-e"
      }
    },
    {
      "cell_type": "code",
      "source": [],
      "metadata": {
        "id": "I36P8CeGux_G"
      },
      "execution_count": null,
      "outputs": []
    },
    {
      "cell_type": "markdown",
      "source": [
        "# Correlation analysis"
      ],
      "metadata": {
        "id": "fk-_ovCbuyrm"
      }
    },
    {
      "cell_type": "markdown",
      "source": [
        "5. Plot the correlation between the melting point and boiling point and between covalent radius and density. In the markdown section, rationalize the observations."
      ],
      "metadata": {
        "id": "I7pjbiqFu1YA"
      }
    },
    {
      "cell_type": "code",
      "source": [],
      "metadata": {
        "id": "waktP22NvVTe"
      },
      "execution_count": null,
      "outputs": []
    },
    {
      "cell_type": "markdown",
      "source": [
        "Answer 5:"
      ],
      "metadata": {
        "id": "HgmbSFidvVgV"
      }
    },
    {
      "cell_type": "markdown",
      "source": [
        "6. Create a heatmap of correlation coefficients between the entries in the table. Find by direct examination the groups of parameters with strongest positive and strongest negative correlations. In the markdown section, rationalize the observations."
      ],
      "metadata": {
        "id": "9f8z5t1GvW_G"
      }
    },
    {
      "cell_type": "code",
      "source": [],
      "metadata": {
        "id": "4T-xFAJ7wAnW"
      },
      "execution_count": null,
      "outputs": []
    },
    {
      "cell_type": "markdown",
      "source": [
        "Answer 6:"
      ],
      "metadata": {
        "id": "zniQea38wAxW"
      }
    },
    {
      "cell_type": "markdown",
      "source": [
        "7. Create a pair distribution plot of Atomic_radius, Covalent_radius,Pauling_Electronegativity and First_Ionisation_Energy\n",
        "\n",
        "---\n",
        "\n"
      ],
      "metadata": {
        "id": "Whvo8WvZwCZW"
      }
    },
    {
      "cell_type": "code",
      "source": [],
      "metadata": {
        "id": "JGFGTWw1wc-e"
      },
      "execution_count": null,
      "outputs": []
    },
    {
      "cell_type": "markdown",
      "source": [
        "# Simple Regression"
      ],
      "metadata": {
        "id": "wTp9lEqdxHYn"
      }
    },
    {
      "cell_type": "markdown",
      "source": [
        "8. Perform a linear fit between the boiling temperature and melting temperature and between specific heat and melting point. Provide the values of fit coefficients and units."
      ],
      "metadata": {
        "id": "2qlXkj-ewdf2"
      }
    },
    {
      "cell_type": "code",
      "source": [],
      "metadata": {
        "id": "IDFV-9ASxfD-"
      },
      "execution_count": null,
      "outputs": []
    },
    {
      "cell_type": "markdown",
      "source": [
        "# Simple clustering"
      ],
      "metadata": {
        "id": "VaIbTB-RxgOG"
      }
    },
    {
      "cell_type": "markdown",
      "source": [
        "9. Choose 2 parameters from the element table as features. Perform k-means clustering and visualize clusters and cluster centers.  "
      ],
      "metadata": {
        "id": "836C_WSYxjDG"
      }
    },
    {
      "cell_type": "code",
      "source": [],
      "metadata": {
        "id": "MK-q1tNWyDr3"
      },
      "execution_count": null,
      "outputs": []
    },
    {
      "cell_type": "markdown",
      "source": [
        "10. Perform the same analysis using the Gaussian Mixture Model. Explore different settings for the covariance parameter. In the markdown field explain the effects you observe."
      ],
      "metadata": {
        "id": "-mXoeSWxyD32"
      }
    },
    {
      "cell_type": "code",
      "source": [],
      "metadata": {
        "id": "pswdmlojyRXm"
      },
      "execution_count": null,
      "outputs": []
    },
    {
      "cell_type": "markdown",
      "source": [
        "Answer 10:"
      ],
      "metadata": {
        "id": "34DLl7UGyRff"
      }
    }
  ]
}